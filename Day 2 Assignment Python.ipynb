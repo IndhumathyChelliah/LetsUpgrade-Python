{
 "cells": [
  {
   "cell_type": "markdown",
   "metadata": {},
   "source": [
    "## 1. List and its default functions"
   ]
  },
  {
   "cell_type": "code",
   "execution_count": 1,
   "metadata": {},
   "outputs": [
    {
     "name": "stdout",
     "output_type": "stream",
     "text": [
      "List after inserting: [1, 99, 2, 3]\n",
      "List after append: [1, 99, 2, 3, 4]\n",
      "List after extend: [1, 99, 2, 3, 4, 5, 6, 7]\n",
      "List after pop: [1, 99, 2, 3, 4, 5, 6]\n",
      "List after remove: [1, 99, 2, 3, 4, 5]\n",
      "The length of list is  6\n",
      "The largest element in the list: 99\n",
      "The largest element in the list: 1\n",
      "The sum of the elements in the list: 114\n",
      "Sorted List: [1, 2, 3, 4, 5, 99]\n"
     ]
    }
   ],
   "source": [
    "l1=[1,2,3]\n",
    "l1.insert(1,99)\n",
    "print (\"List after inserting:\",l1)\n",
    "l1.append(4)\n",
    "print (\"List after append:\",l1)\n",
    "l1.extend([5,6,7])\n",
    "print (\"List after extend:\",l1)\n",
    "l1.pop()\n",
    "print (\"List after pop:\",l1)\n",
    "l1.remove(6)\n",
    "print (\"List after remove:\",l1)\n",
    "print (\"The length of list is \",len(l1))\n",
    "print (\"The largest element in the list:\",max(l1))\n",
    "print (\"The largest element in the list:\",min(l1))\n",
    "print (\"The sum of the elements in the list:\",sum(l1))\n",
    "print (\"Sorted List:\",sorted(l1))"
   ]
  },
  {
   "cell_type": "markdown",
   "metadata": {},
   "source": [
    "## 2.Dictionary and its default functions"
   ]
  },
  {
   "cell_type": "code",
   "execution_count": 3,
   "metadata": {},
   "outputs": [
    {
     "name": "stdout",
     "output_type": "stream",
     "text": [
      "Keys in the dictonary: dict_keys(['a', 'b'])\n",
      "Values in the dictionary: dict_values([1, 2])\n",
      "Key value pairs in the dictionary: dict_items([('a', 1), ('b', 2)])\n",
      "1\n",
      "2\n",
      "The dictioary after updating: {'a': 1, 'b': 2, 'c': 3}\n",
      "The length of the dictioanry: 3\n",
      "dict keys as list: ['a', 'b', 'c']\n",
      "dict values as list: [1, 2, 3]\n",
      "dict items as list: [('a', 1), ('b', 2), ('c', 3)]\n",
      "('c', 3)\n",
      "1\n"
     ]
    }
   ],
   "source": [
    "d1={'a':1,'b':2}\n",
    "print (\"Keys in the dictonary:\",d1.keys())\n",
    "print (\"Values in the dictionary:\",d1.values())\n",
    "print (\"Key value pairs in the dictionary:\",d1.items())\n",
    "print (d1.get('a'))\n",
    "print (d1['b'])\n",
    "d2={'c':3}\n",
    "d1.update(d2)\n",
    "print (\"The dictioary after updating:\",d1)\n",
    "print (\"The length of the dictioanry:\",len(d1))\n",
    "print (\"dict keys as list:\",list(d1))\n",
    "print (\"dict values as list:\",list(d1.values()))\n",
    "print (\"dict items as list:\",list(d1.items()))\n",
    "print (d1.popitem())\n",
    "print(d1.pop('a'))"
   ]
  },
  {
   "cell_type": "markdown",
   "metadata": {},
   "source": [
    "## 3. Set and default functions"
   ]
  },
  {
   "cell_type": "code",
   "execution_count": 4,
   "metadata": {},
   "outputs": [
    {
     "name": "stdout",
     "output_type": "stream",
     "text": [
      "After adding single element: {1, 2, 3}\n",
      "After adding multiple elements: {1, 2, 3, 4, 5, 6}\n",
      "{1, 2, 3, 4, 5}\n",
      "{2, 3, 4, 5}\n",
      "{2, 3, 4, 5, 6, 7}\n",
      "{3, 4, 5}\n",
      "{2}\n",
      "{2, 6, 7}\n",
      "False\n",
      "False\n",
      "False\n"
     ]
    }
   ],
   "source": [
    "s1={1,2}\n",
    "s1.add(3)\n",
    "print (\"After adding single element:\",s1)\n",
    "s1.update({4,5,6})\n",
    "print (\"After adding multiple elements:\",s1)\n",
    "s1.remove(6)\n",
    "print (s1)\n",
    "s1.pop()\n",
    "print (s1)\n",
    "s2={3,4,5,6,7}\n",
    "print (s1|s2)\n",
    "print (s1&s2)\n",
    "print (s1-s2)\n",
    "print (s1^s2)\n",
    "print (s1.isdisjoint(s2))\n",
    "print (s1.issubset(s2))\n",
    "print (s1.issuperset(s2))\n"
   ]
  },
  {
   "cell_type": "markdown",
   "metadata": {},
   "source": [
    "## 4.Tuple and default methods"
   ]
  },
  {
   "cell_type": "code",
   "execution_count": 6,
   "metadata": {},
   "outputs": [
    {
     "name": "stdout",
     "output_type": "stream",
     "text": [
      "0\n",
      "1\n",
      "2\n",
      "['blue', 'green', 'red']\n",
      "[1, 2, 3, 4, 5, 6, 7]\n",
      "4\n",
      "red\n",
      "blue\n",
      "577421350\n"
     ]
    }
   ],
   "source": [
    "t=('red','blue','green','red','yellow')\n",
    "\n",
    "print (t.index('red'))\n",
    "print (t.index('blue'))\n",
    "t=('red','blue','green','red')\n",
    "\n",
    "print (t.count('red'))\n",
    "t1=('red','blue','green')\n",
    "t1_sort=sorted(t1)\n",
    "print (t1_sort)\n",
    "\n",
    "t2=(1,3,5,7,2,4,6)\n",
    "t2_sort=sorted(t2)\n",
    "print (t2_sort)\n",
    "\n",
    "t=('red','blue','green','red')\n",
    "print (len(t))\n",
    "print (max(t))\n",
    "print (min(t))\n",
    "print (hash(t))\n",
    "\n",
    "\n"
   ]
  },
  {
   "cell_type": "markdown",
   "metadata": {},
   "source": [
    "## 5. String and default methods"
   ]
  },
  {
   "cell_type": "code",
   "execution_count": 7,
   "metadata": {},
   "outputs": [
    {
     "name": "stdout",
     "output_type": "stream",
     "text": [
      "Example of string methods\n",
      "Example Of String Methods\n",
      "EXAMPLE OF STRING METHODS\n",
      "example of string methods\n",
      "EXAMPLE of sTRING METHODS\n",
      "example of string methods\n",
      "True\n",
      "True\n",
      "False\n",
      "False\n",
      "['example', 'OF', 'String', 'methods']\n",
      "22\n",
      "egample OF String methods\n",
      "('example ', 'OF', ' String methods')\n",
      "************example OF String methods*************\n",
      "1\n"
     ]
    }
   ],
   "source": [
    "s1=\"example OF String methods\"\n",
    "print (s1.capitalize())\n",
    "print (s1.title())\n",
    "print (s1.upper())\n",
    "print (s1.lower())\n",
    "print (s1.swapcase())\n",
    "print (s1.casefold())\n",
    "print (s1.startswith(\"ex\"))\n",
    "print (s1.endswith(\"s\"))\n",
    "print (s1.isalpha())\n",
    "print (s1.isalnum())\n",
    "print (s1.split(\" \"))\n",
    "print (s1.find(\"o\"))\n",
    "print (s1.replace('x','g'))\n",
    "print (s1.partition(\"OF\"))\n",
    "print (s1.center(50,\"*\"))\n",
    "print (s1.count('o'))"
   ]
  },
  {
   "cell_type": "code",
   "execution_count": null,
   "metadata": {},
   "outputs": [],
   "source": []
  }
 ],
 "metadata": {
  "kernelspec": {
   "display_name": "Python 3",
   "language": "python",
   "name": "python3"
  },
  "language_info": {
   "codemirror_mode": {
    "name": "ipython",
    "version": 3
   },
   "file_extension": ".py",
   "mimetype": "text/x-python",
   "name": "python",
   "nbconvert_exporter": "python",
   "pygments_lexer": "ipython3",
   "version": "3.8.1"
  }
 },
 "nbformat": 4,
 "nbformat_minor": 4
}
