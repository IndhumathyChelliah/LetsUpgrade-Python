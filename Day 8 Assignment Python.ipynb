{
 "cells": [
  {
   "cell_type": "markdown",
   "metadata": {},
   "source": [
    "Question 1\n",
    "Write a decorator function for your taking input for you any kind of function you want to build,\n",
    "For example - You make a fibonacci series function,in which your input range is been defined by\n",
    "the decorator program input.\n"
   ]
  },
  {
   "cell_type": "code",
   "execution_count": 1,
   "metadata": {},
   "outputs": [
    {
     "name": "stdout",
     "output_type": "stream",
     "text": [
      "HI EVERYONE\n"
     ]
    }
   ],
   "source": [
    "def strupper(func):\n",
    "\tdef up():\n",
    "\t\tstr1=func()\n",
    "\t\ts2=str1.upper()\n",
    "\t\treturn s2\n",
    "\treturn up\n",
    "\n",
    "@strupper\n",
    "def st1():\n",
    "\treturn(\"hi everyone\")\n",
    "\n",
    "print (st1())\n"
   ]
  },
  {
   "cell_type": "code",
   "execution_count": 2,
   "metadata": {},
   "outputs": [
    {
     "name": "stdout",
     "output_type": "stream",
     "text": [
      "give number greater than zero\n"
     ]
    }
   ],
   "source": [
    "\n",
    "def divdec(func):\n",
    "\tdef inner(x,y):\n",
    "\t\tif y==0:\n",
    "\t\t\treturn (\"give number greater than zero\")\n",
    "\t\treturn func(x,y)\n",
    "\treturn inner\n",
    "@divdec\n",
    "def div(x,y):\n",
    "\treturn (x/y)\n",
    "\n",
    "\n",
    "print (div(4,0))"
   ]
  },
  {
   "cell_type": "markdown",
   "metadata": {},
   "source": [
    "## Question 2\n",
    "For this challenge you need to develop a Python program to open a file in read only mode and try\n",
    "writing something to it and handle the subsequent errors using Exception Handling"
   ]
  },
  {
   "cell_type": "code",
   "execution_count": 3,
   "metadata": {},
   "outputs": [
    {
     "name": "stdout",
     "output_type": "stream",
     "text": [
      "not writable\n"
     ]
    }
   ],
   "source": [
    "try:\n",
    "    with open (\"hello.txt\" ,'r') as f:\n",
    "        f.write(\"Hi python\")\n",
    "except Exception as e:\n",
    "    print (e)\n"
   ]
  },
  {
   "cell_type": "code",
   "execution_count": null,
   "metadata": {},
   "outputs": [],
   "source": []
  }
 ],
 "metadata": {
  "kernelspec": {
   "display_name": "Python 3",
   "language": "python",
   "name": "python3"
  },
  "language_info": {
   "codemirror_mode": {
    "name": "ipython",
    "version": 3
   },
   "file_extension": ".py",
   "mimetype": "text/x-python",
   "name": "python",
   "nbconvert_exporter": "python",
   "pygments_lexer": "ipython3",
   "version": "3.8.1"
  }
 },
 "nbformat": 4,
 "nbformat_minor": 4
}
