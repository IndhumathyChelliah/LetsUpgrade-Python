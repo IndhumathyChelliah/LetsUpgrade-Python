{
 "cells": [
  {
   "cell_type": "markdown",
   "metadata": {},
   "source": [
    "## 1. You all are pilots,you want to land a plane safely,so altitute required for landing a plane is 1000ft, if it is less than tell the pilot to land the plane,or it is more than or but les than 5000 ft ask the pilot to come down to 1000 ft.else if it is more than 5000ft ask the pilot to go around and try later.\n",
    "Input: 1000\n",
    "Output:Safe to land\n",
    "\n",
    "Input:4500\n",
    "Output:Bring down to 1000\n",
    "\n",
    "Input:6500\n",
    "Output:Turn Around"
   ]
  },
  {
   "cell_type": "code",
   "execution_count": 1,
   "metadata": {},
   "outputs": [
    {
     "name": "stdout",
     "output_type": "stream",
     "text": [
      "Safe to Land\n",
      "Bring down to 1000\n",
      "Turn Around\n"
     ]
    }
   ],
   "source": [
    "def plane(alt):\n",
    "    if alt <= 1000:\n",
    "        print (\"Safe to Land\")\n",
    "    elif alt >1000 and alt<5000:\n",
    "        print (\"Bring down to 1000\")\n",
    "    elif alt>=5000:\n",
    "        print (\"Turn Around\")\n",
    "\n",
    "plane(1000)\n",
    "plane(4500)\n",
    "plane(6500)"
   ]
  },
  {
   "cell_type": "markdown",
   "metadata": {},
   "source": [
    "## 2.Using for loop to print all prime numbers from 1-200 using for loop and range function"
   ]
  },
  {
   "cell_type": "code",
   "execution_count": 2,
   "metadata": {},
   "outputs": [
    {
     "name": "stdout",
     "output_type": "stream",
     "text": [
      "2 3 5 7 11 13 17 19 23 29 31 37 41 43 47 53 59 61 67 71 73 79 83 89 97 101 103 107 109 113 127 131 137 139 149 151 157 163 167 173 179 181 191 193 197 199 "
     ]
    }
   ],
   "source": [
    "for num in range(1,201):\n",
    "   if num > 1:\n",
    "       for i in range(2, num):\n",
    "           if (num % i) == 0:\n",
    "               break\n",
    "       else:\n",
    "           print(num,end=\" \")"
   ]
  },
  {
   "cell_type": "code",
   "execution_count": null,
   "metadata": {},
   "outputs": [],
   "source": []
  }
 ],
 "metadata": {
  "kernelspec": {
   "display_name": "Python 3",
   "language": "python",
   "name": "python3"
  },
  "language_info": {
   "codemirror_mode": {
    "name": "ipython",
    "version": 3
   },
   "file_extension": ".py",
   "mimetype": "text/x-python",
   "name": "python",
   "nbconvert_exporter": "python",
   "pygments_lexer": "ipython3",
   "version": "3.8.1"
  }
 },
 "nbformat": 4,
 "nbformat_minor": 4
}
