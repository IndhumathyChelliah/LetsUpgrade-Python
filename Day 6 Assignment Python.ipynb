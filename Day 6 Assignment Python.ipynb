{
 "cells": [
  {
   "cell_type": "markdown",
   "metadata": {},
   "source": [
    "## 1.Question 2\n",
    "For this challenge,create a cone class that has two attributes:\n",
    "*R=Radius\n",
    "*h=Height\n",
    "And two methods:\n",
    "*Volume = Π * r2 = (h/3)\n",
    "*Surface area : base : Π * r2 , side : Π * r * √(r2 + h2)\n",
    "Make only one class with functions,as in where required import Math"
   ]
  },
  {
   "cell_type": "code",
   "execution_count": 1,
   "metadata": {},
   "outputs": [
    {
     "name": "stdout",
     "output_type": "stream",
     "text": [
      "113.09733552923254\n",
      "13448.628037668655\n"
     ]
    }
   ],
   "source": [
    "from math import pi\n",
    "from math import sqrt\n",
    "class cone:\n",
    "    def __init__(self,r,h):\n",
    "        self.r=r\n",
    "        self.h=h\n",
    "    def vol(self):\n",
    "        volume=pi*self.r**self.r*(self.h/3)\n",
    "        return volume\n",
    "    def surfacearea(self):\n",
    "        base=pi*self.r**self.r\n",
    "        side=pi*self.r*sqrt(self.r**self.r + self.h**self.h)\n",
    "        sarea=base*side\n",
    "        return sarea\n",
    "\n",
    "c=cone(3,4)\n",
    "print (c.vol())\n",
    "print (c.surfacearea())"
   ]
  },
  {
   "cell_type": "markdown",
   "metadata": {},
   "source": [
    "##  Question 1\n",
    "For this challenge,create a bank account class that has two attributes\n",
    "*ownerName\n",
    "*Balance\n",
    "And two methods\n",
    "*deposit\n",
    "*withdraw\n",
    "As an added requirement,withdrawals may not exceed the available balance.\n",
    "Instantiate your class,make several deposits and withdrawals,and test to make sure the account\n",
    "cant be overdrawn."
   ]
  },
  {
   "cell_type": "code",
   "execution_count": 2,
   "metadata": {},
   "outputs": [
    {
     "name": "stdout",
     "output_type": "stream",
     "text": [
      "7000\n",
      "('The balance amount is ', 6000)\n",
      "Sorry,Withdrawal amount is greater than balance amount\n"
     ]
    }
   ],
   "source": [
    "class bankaccount:\n",
    "    def __init__(self,ownerName,Balance):\n",
    "        self.ownerName=ownerName\n",
    "        self.Balance=Balance\n",
    "    def deposit(self,dep):\n",
    "        self.dep=dep\n",
    "        self.Balance=self.Balance+self.dep\n",
    "        return self.Balance\n",
    "    def withdrawal(self,withdraw):\n",
    "        self.withdraw=withdraw\n",
    "        if self.Balance>=self.withdraw:\n",
    "            self.Balance=self.Balance-self.withdraw\n",
    "            return \"The balance amount is \" ,self.Balance\n",
    "        else:\n",
    "            return \"Sorry,Withdrawal amount is greater than balance amount\"\n",
    "\n",
    "\n",
    "b=bankaccount(\"Indhu\",5000)\n",
    "print (b.deposit(2000))\n",
    "print (b.withdrawal(1000))\n",
    "print (b.withdrawal(10000))"
   ]
  },
  {
   "cell_type": "code",
   "execution_count": null,
   "metadata": {},
   "outputs": [],
   "source": []
  }
 ],
 "metadata": {
  "kernelspec": {
   "display_name": "Python 3",
   "language": "python",
   "name": "python3"
  },
  "language_info": {
   "codemirror_mode": {
    "name": "ipython",
    "version": 3
   },
   "file_extension": ".py",
   "mimetype": "text/x-python",
   "name": "python",
   "nbconvert_exporter": "python",
   "pygments_lexer": "ipython3",
   "version": "3.8.1"
  }
 },
 "nbformat": 4,
 "nbformat_minor": 4
}
